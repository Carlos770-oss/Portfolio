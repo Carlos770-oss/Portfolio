{
  "nbformat": 4,
  "nbformat_minor": 0,
  "metadata": {
    "colab": {
      "provenance": []
    },
    "kernelspec": {
      "name": "python3",
      "display_name": "Python 3"
    },
    "language_info": {
      "name": "python"
    }
  },
  "cells": [
    {
      "cell_type": "markdown",
      "source": [
        "An experiment was conducted to determine the effect of pressure and temperature on the yield of a chemical substance. Two levels of pressure (in pounds per square inch, psi) and three levels of temperature were used:\n",
        "\n",
        "- Pressure: 50, 80\n",
        "- Temperature (F): 100, 200, 300\n",
        "\n",
        "A test of the experiment at each temperature-pressure combination yielded the following data:\n",
        "\n",
        "\\[\n",
        "\\begin{array}{|c|c|c|}\n",
        "\\hline\n",
        "\\text{Yield} & \\text{Pressure} & \\text{Temperature} \\\\\n",
        "\\hline\n",
        "21 & 50 & 100 \\\\\n",
        "23 & 50 & 200 \\\\\n",
        "26 & 50 & 300 \\\\\n",
        "22 & 80 & 100 \\\\\n",
        "23 & 80 & 200 \\\\\n",
        "28 & 80 & 300 \\\\\n",
        "\\hline\n",
        "\\end{array}\n",
        "\\]\n",
        "\n",
        "1. Fit the model $ Y = \\beta_0 + \\beta_1 x_1 + \\beta_2 x_2 + \\beta_3 x_1^2 + \\epsilon $, where $ x_1 $ is pressure and $ x_2 $ is temperature.\n",
        "2. Test if $ \\beta_3 $ differs significantly from zero, with $ \\alpha = 0.05 $.\n",
        "3. Test the hypothesis that temperature does not affect yield, with $ \\alpha = 0.05 $.\n",
        "\n"
      ],
      "metadata": {
        "id": "sKtXE4qNjOxv"
      }
    },
    {
      "cell_type": "code",
      "execution_count": 1,
      "metadata": {
        "colab": {
          "base_uri": "https://localhost:8080/"
        },
        "id": "1QhK4vcfiPfS",
        "outputId": "69a17b4a-7bf0-4cd8-db37-c00b72b776c6"
      },
      "outputs": [
        {
          "output_type": "stream",
          "name": "stdout",
          "text": [
            "The fitted model is: y = 20.33 + 0.0333*Pressure + -0.0225*Temperature + 0.0001*Temperature^2\n",
            "\n",
            "Test for the quadratic term of Temperature (beta3):\n",
            "Coefficient beta3: 0.0001, p-value: 0.1780\n",
            "The quadratic term of Temperature does not significantly affect Performance at a 0.05 significance level.\n",
            "\n",
            "T-test for the effect of Temperature (beta2):\n",
            "p-value: 0.4592\n",
            "Temperature does not significantly affect Performance (we fail to reject H0) IN THIS MODEL at a 0.05 significance level (the quadratic term was already excluded from consideration).\n"
          ]
        }
      ],
      "source": [
        "import pandas as pd\n",
        "import statsmodels.api as sm\n",
        "\n",
        "# Data\n",
        "data = {\n",
        "    \"Performance\": [21, 23, 26, 22, 23, 28],\n",
        "    \"Pressure\": [50, 50, 50, 80, 80, 80],\n",
        "    \"Temperature\": [100, 200, 300, 100, 200, 300],\n",
        "}\n",
        "\n",
        "df = pd.DataFrame(data)\n",
        "\n",
        "# Add the squared term for Temperature\n",
        "df[\"Temperature^2\"] = df[\"Temperature\"] ** 2\n",
        "\n",
        "# Define predictors and add a constant\n",
        "X = df[[\"Pressure\", \"Temperature\", \"Temperature^2\"]]\n",
        "X = sm.add_constant(X)\n",
        "y = df[\"Performance\"]\n",
        "\n",
        "# Fit the model\n",
        "model = sm.OLS(y, X).fit()\n",
        "\n",
        "# Extract coefficients\n",
        "beta0 = model.params[\"const\"]\n",
        "beta1 = model.params[\"Pressure\"]\n",
        "beta2 = model.params[\"Temperature\"]\n",
        "beta3 = model.params[\"Temperature^2\"]\n",
        "\n",
        "# Print the adjusted model\n",
        "print(f\"The fitted model is: y = {beta0:.2f} + {beta1:.4f}*Pressure + {beta2:.4f}*Temperature + {beta3:.4f}*Temperature^2\")\n",
        "\n",
        "# Test for beta3\n",
        "p_value_beta3 = model.pvalues[\"Temperature^2\"]\n",
        "print(f\"\\nTest for the quadratic term of Temperature (beta3):\")\n",
        "print(f\"Coefficient beta3: {beta3:.4f}, p-value: {p_value_beta3:.4f}\")\n",
        "print(\"The quadratic term of Temperature does not significantly affect Performance at a 0.05 significance level.\")\n",
        "\n",
        "# Test for beta2\n",
        "p_value_beta2 = model.pvalues[\"Temperature\"]\n",
        "\n",
        "print(f\"\\nT-test for the effect of Temperature (beta2):\")\n",
        "print(f\"p-value: {p_value_beta2:.4f}\")\n",
        "print(\"Temperature does not significantly affect Performance (we fail to reject H0) IN THIS MODEL at a 0.05 significance level (the quadratic term was already excluded from consideration).\")\n"
      ]
    },
    {
      "cell_type": "markdown",
      "source": [
        "The data in the following table come from comparing growth percentages for bacteria types A and B. Growth \\( Y \\) was recorded at five equally spaced (and coded) time points shown in the table:\n",
        "\n",
        "\\[\n",
        "\\begin{array}{|c|c|c|}\n",
        "\\hline\n",
        "\\text{Coded Time} & \\text{Bacteria A} & \\text{Bacteria B} \\\\\n",
        "\\hline\n",
        "-2 & 8.0 & 10.0 \\\\\n",
        "-1 & 9.0 & 10.3 \\\\\n",
        "0 & 9.1 & 12.2 \\\\\n",
        "1 & 10.2 & 12.6 \\\\\n",
        "2 & 10.4 & 13.9 \\\\\n",
        "\\hline\n",
        "\\end{array}\n",
        "\\]\n",
        "\n",
        "1. Fit the linear model $ Y = \\beta_0 + \\beta_1 x_1 + \\beta_2 x_2 + \\beta_3 x_1 x_2 + \\epsilon $ to the $ n = 10 $ points. Let $ x_1 = 1 $ if the point refers to bacteria type B and $ x_1 = 0 $ if the point refers to bacteria type A. Let $x_2 $ be coded time.\n",
        "2. Plot the points and the two growth rate lines. Interpret $ \\beta_3 $ as the difference between the slopes of the two lines, representing the time-bacteria interaction.\n",
        "3. Predict the growth of type A at time $ x_2 = 0 $ and compare the result with the graph. Repeat the process for type B.\n",
        "4. Do the data provide sufficient evidence to indicate a difference in growth percentages for the two types of bacteria?\n"
      ],
      "metadata": {
        "id": "QA2YnLRWksQb"
      }
    },
    {
      "cell_type": "code",
      "source": [
        "import numpy as np\n",
        "import pandas as pd\n",
        "import statsmodels.api as sm\n",
        "import matplotlib.pyplot as plt\n",
        "\n",
        "# Define time and bacterial growth data\n",
        "time = np.array([-2, -1, 0, 1, 2])\n",
        "bacteria_a = np.array([8.0, 9.0, 9.1, 10.2, 10.4])\n",
        "bacteria_b = np.array([10.0, 10.3, 12.2, 12.6, 13.9])\n",
        "\n",
        "# Create variables for the model, to be analyzed \"jointly\"\n",
        "x1 = np.concatenate((np.ones_like(time), np.zeros_like(time)))  # 1 for bacteria A, 0 for bacteria B\n",
        "x2 = np.concatenate((time, time))  # Time for both variables\n",
        "x1_x2 = x1 * x2  # Interaction term\n",
        "y = np.concatenate((bacteria_a, bacteria_b))  # Response variable\n",
        "\n",
        "# Create the X matrix\n",
        "X = np.column_stack((np.ones_like(y), x1, x2, x1_x2))\n",
        "model = sm.OLS(y, X).fit()\n",
        "\n",
        "# Plot the data\n",
        "plt.scatter(time, bacteria_a, label='Bacteria A', color='blue')\n",
        "plt.scatter(time, bacteria_b, label='Bacteria B', color='red')\n",
        "\n",
        "# Print estimated coefficients\n",
        "print(\"Estimated coefficients (betas):\", model.params)\n",
        "\n",
        "# Create a full range of time for predictions\n",
        "time_full = np.linspace(min(time), max(time), 100)\n",
        "X_a = np.column_stack((np.ones_like(time_full), np.ones_like(time_full), time_full, time_full))\n",
        "X_b = np.column_stack((np.ones_like(time_full), np.zeros_like(time_full), time_full, np.zeros_like(time_full)))\n",
        "\n",
        "# Predictions for Bacteria A and B\n",
        "y_a_pred = model.predict(X_a)\n",
        "y_b_pred = model.predict(X_b)\n",
        "\n",
        "plt.plot(time_full, y_a_pred, color='blue', label='Fitted Line A')\n",
        "plt.plot(time_full, y_b_pred, color='red', label='Fitted Line B')\n",
        "\n",
        "plt.xlabel('Encoded Time')\n",
        "plt.ylabel('Growth Percentage')\n",
        "plt.legend()\n",
        "plt.show()\n",
        "\n",
        "# Predictions for Bacteria A and B at x2=0\n",
        "pred_a = model.predict([1, 1, 0, 0])\n",
        "pred_b = model.predict([1, 0, 0, 0])\n",
        "\n",
        "print(f\"Prediction for Bacteria A at x2=0: {pred_a[0]}\")\n",
        "print(f\"Prediction for Bacteria B at x2=0: {pred_b[0]}\")\n",
        "\n",
        "# Interaction term (β3) and its p-value\n",
        "print(\"Interaction coefficient (β3):\", model.params[3])\n",
        "print(\"P-value for the interaction coefficient:\", model.pvalues[3])\n",
        "print(\"Therefore, the null hypothesis is rejected, and β3 is significantly different from 0.\")\n",
        "\n",
        "# Coefficient B1 and its p-value\n",
        "b1 = model.params[1]\n",
        "p_value_b1 = model.pvalues[1]\n",
        "\n",
        "print(f\"There is sufficient evidence (p = {p_value_b1:.3f}) to conclude that the growth percentages (B_1) are significantly different between the two bacteria.\")\n",
        "print(\"\\nGiven that the interaction term β3 and the growth term related to bacteria type β1 are significantly different from 0, we conclude that the growth percentages do vary depending on the type of bacteria at a 0.05 significance level.\")\n"
      ],
      "metadata": {
        "colab": {
          "base_uri": "https://localhost:8080/",
          "height": 625
        },
        "id": "SiykcMbmiRYZ",
        "outputId": "9b713d0f-5625-4f36-e075-2419dfb11fbf"
      },
      "execution_count": 2,
      "outputs": [
        {
          "output_type": "stream",
          "name": "stdout",
          "text": [
            "Estimated coefficients (betas): [11.8  -2.46  1.01 -0.41]\n"
          ]
        },
        {
          "output_type": "display_data",
          "data": {
            "text/plain": [
              "<Figure size 640x480 with 1 Axes>"
            ],
            "image/png": "[encoded data removed]"
          },
          "metadata": {}
        },
        {
          "output_type": "stream",
          "name": "stdout",
          "text": [
            "Prediction for Bacteria A at x2=0: 9.339999999999998\n",
            "Prediction for Bacteria B at x2=0: 11.800000000000004\n",
            "Interaction coefficient (β3): -0.40999999999999703\n",
            "P-value for the interaction coefficient: 0.03924040998017229\n",
            "Therefore, the null hypothesis is rejected, and β3 is significantly different from 0.\n",
            "There is sufficient evidence (p = 0.000) to conclude that the growth percentages (B_1) are significantly different between the two bacteria.\n",
            "\n",
            "Given that the interaction term β3 and the growth term related to bacteria type β1 are significantly different from 0, we conclude that the growth percentages do vary depending on the type of bacteria at a 0.05 significance level.\n"
          ]
        }
      ]
    },
    {
      "cell_type": "code",
      "source": [],
      "metadata": {
        "id": "jeTDDdIwiRn-"
      },
      "execution_count": null,
      "outputs": []
    }
  ]
}